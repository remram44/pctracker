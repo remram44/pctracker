{
 "cells": [
  {
   "cell_type": "code",
   "execution_count": 69,
   "metadata": {},
   "outputs": [],
   "source": [
    "from datetime import datetime\n",
    "from pprint import pprint\n",
    "import re\n",
    "import sqlite3"
   ]
  },
  {
   "cell_type": "code",
   "execution_count": 2,
   "metadata": {},
   "outputs": [],
   "source": [
    "db = sqlite3.connect('database.sqlite3')"
   ]
  },
  {
   "cell_type": "code",
   "execution_count": 24,
   "metadata": {},
   "outputs": [
    {
     "name": "stdout",
     "output_type": "stream",
     "text": [
      "-- Loading resources from /home/remram/.sqliterc\r\n",
      "CREATE TABLE windows(\r\n",
      "                id INTEGER PRIMARY KEY,\r\n",
      "                start DATETIME NOT NULL,\r\n",
      "                end DATETIME NOT NULL,\r\n",
      "                active BOOLEAN NOT NULL,\r\n",
      "                name TEXT NOT NULL\r\n",
      "            );\r\n",
      "CREATE TABLE runs(\r\n",
      "                id INTEGER PRIMARY KEY,\r\n",
      "                start DATETIME NOT NULL,\r\n",
      "                end DATETIME NULL,\r\n",
      "                end_reason TEXT NOT NULL DEFAULT ''\r\n",
      "            );\r\n",
      "CREATE INDEX idx_windows_start ON windows(start);\r\n",
      "CREATE INDEX idx_windows_end ON windows(end);\r\n",
      "CREATE INDEX idx_windows_active ON windows(active) WHERE active=1;\r\n",
      "CREATE INDEX idx_windows_name ON windows(name);\r\n",
      "CREATE INDEX idx_runs_start ON runs(start);\r\n",
      "CREATE INDEX idx_runs_end ON runs(end);\r\n"
     ]
    }
   ],
   "source": [
    "!sqlite3 database.sqlite3 .schema"
   ]
  },
  {
   "cell_type": "code",
   "execution_count": 3,
   "metadata": {},
   "outputs": [
    {
     "data": {
      "text/plain": [
       "[(2100,)]"
      ]
     },
     "execution_count": 3,
     "metadata": {},
     "output_type": "execute_result"
    }
   ],
   "source": [
    "list(db.execute('SELECT count(id) FROM windows;'))"
   ]
  },
  {
   "cell_type": "code",
   "execution_count": 9,
   "metadata": {},
   "outputs": [
    {
     "data": {
      "text/plain": [
       "141"
      ]
     },
     "execution_count": 9,
     "metadata": {},
     "output_type": "execute_result"
    }
   ],
   "source": [
    "names = [name for name, in db.execute('SELECT DISTINCT name FROM windows;')]\n",
    "len(names)"
   ]
  },
  {
   "cell_type": "code",
   "execution_count": 10,
   "metadata": {},
   "outputs": [
    {
     "name": "stdout",
     "output_type": "stream",
     "text": [
      "\"Command Line Tools\" missing find · Issue #22 · remram44/regex-cheatsheet — Mozilla Firefox\n",
      "\"database is locked\" issue (#47) · Issues · VIDA-NYU / d3m / AlphaD3M · GitLab — Mozilla Firefox\n",
      "() datamart-prod — Konsole\n",
      "(NSFW) What Fetish did you have until you tried it? : AskReddit — Mozilla Firefox\n",
      "- : sudo -g — Konsole\n",
      "/home/remram/projects/d3m/auctus - QGit\n",
      "/home/remram/projects/pctracker - QGit\n",
      "/home/remram/projects/peertube - QGit\n",
      "2017 IRONMAN Lake Placid » RTRT.me — Mozilla Firefox\n",
      "2020-12-17 15-00-28.mkv - VLC media player\n",
      "ASMR Cranial Nerve Exam: Concussion Test 👩‍⚕️ (Soft Spoken Roleplay - Doctor Check Up ASMR) - YouTube — Mozilla Firefox\n",
      "Add Comment | Hacker News — Mozilla Firefox\n",
      "Add facets to filters (!179) · Merge Requests · VIDA-NYU / auctus / Auctus · GitLab — Mozilla Firefox\n",
      "Aposimz chapter 3 vol — Mozilla Firefox\n",
      "Aposimz chapter 30 vol — Mozilla Firefox\n",
      "Auctus — Mozilla Firefox\n",
      "Autostart — System Settings Module\n",
      "Back to the '70s with Serverless — Mozilla Firefox\n",
      "Beer distribution game - Wikipedia — Mozilla Firefox\n",
      "Bevy ECS migration by cart · Pull Request #49 · bevyengine/bevy — Mozilla Firefox\n",
      "Billing Statement - remirampin@gmail.com - Gmail — Mozilla Firefox\n",
      "Blue Jeans Network | Video Collaboration in the Cloud - Google Chrome\n",
      "CGi Artist Makes a Masterpiece Everyday For 12 Years (Today We Challenge Him) - YouTube — Mozilla Firefox\n",
      "Capital One | Bank Details — Mozilla Firefox\n",
      "Capture : bash — Konsole\n",
      "Capture — Dolphin\n",
      "Cerulean: Experimental micro-blogging app for Matrix | Hacker News — Mozilla Firefox\n",
      "Clément Canonne says... — Mozilla Firefox\n",
      "Copy of GIS_2020-12-15_Gmail - 4et50yp2ckm8otv.pdf — Mozilla Firefox\n",
      "DEF CON 22 - Deviant Ollam & Howard Payne - Elevator Hacking - From the Pit to the Penthouse - YouTube — Mozilla Firefox\n",
      "Datamart and profiling - remirampin@gmail.com - Gmail — Mozilla Firefox\n",
      "DatasetTypeFilter.tsx (~/projects/d3m/auctus/frontend/src/components/DatasetTypeFilter) - GVIM\n",
      "Defense Against Dark Arts — Mozilla Firefox\n",
      "Delete Permanently — Dolphin\n",
      "Desktop — Plasma\n",
      "Developer Tools — Auctus — http://localhost:8001/?q={\"query\"%3A\"basic\"%2C\"filters\"%3A[]}\n",
      "Does closing an SCPClient also close the underlying SSHClient? Should it? · Issue #150 · jbardin/scp.py — Mozilla Firefox\n",
      "Donald Knuth: Algorithms, Complexity, and The Art of Computer Programming | Lex Fridman Podcast #62 - YouTube — Mozilla Firefox\n",
      "Donald Knuth: P=NP | AI Podcast Clips - YouTube — Mozilla Firefox\n",
      "Driving my car around is... weird || TRUCKLA UPDATE + CYBERTRUCK - YouTube — Mozilla Firefox\n",
      "DroidCam Video Feed — Mozilla Firefox\n",
      "DroidCam — Mozilla Firefox\n",
      "GamesDoneQuick - Twitch — Mozilla Firefox\n",
      "Google Cloud Status Dashboard — Mozilla Firefox\n",
      "Handling the keyboard — pynput 1.7.1 documentation — Mozilla Firefox\n",
      "Henry Cavill being a GAMER for 6 min and 14 sec - YouTube — Mozilla Firefox\n",
      "How do i pass a &str without it getting out of livetime : rust — Mozilla Firefox\n",
      "I Have Resigned from the Google AMP Advisory Committee | Hacker News — Mozilla Firefox\n",
      "I TURNED MY TESLA INTO A PICKUP TRUCK - YouTube — Mozilla Firefox\n",
      "I-130-Affidavit-Sample.pdf — Mozilla Firefox\n",
      "IP Webcam - Apps on Google Play — Mozilla Firefox\n",
      "IRONMAN Lake Placid Finish Line 2017 on Livestream — Mozilla Firefox\n",
      "Inbox (34) - remirampin@gmail.com - Gmail — Mozilla Firefox\n",
      "Inbox (35) - remirampin@gmail.com - Gmail — Mozilla Firefox\n",
      "Inbox (36) - remirampin@gmail.com - Gmail — Mozilla Firefox\n",
      "Inbox (37) - remirampin@gmail.com - Gmail — Mozilla Firefox\n",
      "Inbox (38) - remirampin@gmail.com - Gmail — Mozilla Firefox\n",
      "Inbox (39) - remirampin@gmail.com - Gmail — Mozilla Firefox\n",
      "Inbox (40) - remirampin@gmail.com - Gmail — Mozilla Firefox\n",
      "Inbox (41) - remirampin@gmail.com - Gmail — Mozilla Firefox\n",
      "Inbox (43) - remirampin@gmail.com - Gmail — Mozilla Firefox\n",
      "Inbox (44) - remirampin@gmail.com - Gmail — Mozilla Firefox\n",
      "Inbox (50) - remirampin@gmail.com - Gmail — Mozilla Firefox\n",
      "Joplin\n",
      "Live From Upstairs - Remram's PeerTube — Mozilla Firefox\n",
      "Miziziziz - Twitch — Mozilla Firefox\n",
      "Mozilla Firefox\n",
      "New Issue · VIDA-NYU / auctus / Auctus · GitLab — Mozilla Firefox\n",
      "OBS 26.0.2 (linux) - Profile: Default - Scenes: Default\n",
      "OBS 26.0.2 (linux) - Profile: Meeting - Scenes: Meeting\n",
      "OBS Studio 26.0.2 (linux) - Profile: Default - Scenes: Default\n",
      "Paint - YouTube — Mozilla Firefox\n",
      "Plasma\n",
      "Post Mortem of Google Outage on 14 December 2020 | Hacker News — Mozilla Firefox\n",
      "Pragma statements supported by SQLite — Mozilla Firefox\n",
      "Processes - Grafana — Mozilla Firefox\n",
      "ProcrastiTracker — Mozilla Firefox\n",
      "Profiling - Grafana — Mozilla Firefox\n",
      "Roguelite Action Platformer - Rogue Glitch (Northernlion Tries) - YouTube — Mozilla Firefox\n",
      "Ruining Christmas Carols - YouTube — Mozilla Firefox\n",
      "Rust, gamedev, ECS, and bevy - Part 2 - Hugo Peixoto — Mozilla Firefox\n",
      "SORSE - From experimental software to research infrastructure maturity - YouTube — Mozilla Firefox\n",
      "Separating GUI and core functions? : rust — Mozilla Firefox\n",
      "Signal\n",
      "Signal (1)\n",
      "Slack | Composer | datadrivendiscovery — Mozilla Firefox\n",
      "Slack | community-outreach | datadrivendiscovery — Mozilla Firefox\n",
      "SourceFilter.tsx (~/projects/d3m/auctus/frontend/src/components/SourceFilter) - GVIM\n",
      "SourceFilter.tsx + (~/projects/d3m/auctus/frontend/src/components/SourceFilter) - GVIM\n",
      "Star Trek Tng Blooper Reel Season 5 Sub ITA - YouTube — Mozilla Firefox\n",
      "Statement for Joschi & Narges - Google Docs — Mozilla Firefox\n",
      "Temporal Analysis Project Report.pdf — Mozilla Firefox\n",
      "Terms aggregation | Elasticsearch Reference [7.10] | Elastic — Mozilla Firefox\n",
      "Text changes when imported (#205) · Issues · Remi Rampin / taguette · GitLab — Mozilla Firefox\n",
      "WM Data Inputs + Workflows - Google Chrome\n",
      "Watch Cells at Work! Episode 1 Online Sub - AnimeKisa — Mozilla Firefox\n",
      "What If OpenDocument Used SQLite? | Hacker News — Mozilla Firefox\n",
      "What something that you’ve done while horny and you regret it? : AskReddit — Mozilla Firefox\n",
      "When the DOOM music kicks in - YouTube — Mozilla Firefox\n",
      "Why CockroachDB and PostgreSQL Are Compatible | Hacker News — Mozilla Firefox\n",
      "Win10 [Running] - Oracle VM VirtualBox\n",
      "[No Name] + - GVIM\n",
      "analysis - Jupyter Notebook — Mozilla Firefox\n",
      "auctus\n",
      "auctus : python3 — Konsole\n",
      "auctus – __init__.py [datamart]\n",
      "auctus – common.py [datamart]\n",
      "auctus – fscache.py [datamart]\n",
      "auctus – profile_types.py [datamart]\n",
      "auctus – restapi.yaml [datamart]\n",
      "auctus – test_integ.py [datamart]\n",
      "bannedit's musings – Virtual Machine Detection In The Browser — Mozilla Firefox\n",
      "beeple (@beeple) / Twitter — Mozilla Firefox\n",
      "cpython/cursor.c at master · python/cpython — Mozilla Firefox\n",
      "datamart-2020 - Google Drive — Mozilla Firefox\n",
      "ipython : notebook — Konsole\n",
      "meetings - Google Drive — Mozilla Firefox\n",
      "newest submissions : rust — Mozilla Firefox\n",
      "pctracker : bash — Konsole\n",
      "pctracker : git — Konsole\n",
      "pctracker : python — Konsole\n",
      "pctracker : python3 — Konsole\n",
      "pctracker : sqlite3 — Konsole\n",
      "pctracker – lock.py\n",
      "pctracker – record.py\n",
      "pctracker – win32.py\n",
      "pctracker – x11.py\n",
      "python - open file for random write without truncating? - Stack Overflow — Mozilla Firefox\n",
      "sqlite3 — DB-API 2.0 interface for SQLite databases — Python 3.9.1 documentation — Mozilla Firefox\n",
      "taguette – convert.py\n",
      "use-create-upload-video.md · master · Framasoft / PeerTube / documentation · GitLab — Mozilla Firefox\n",
      "vsnz - Twitch — Mozilla Firefox\n",
      "win32gui - How to get a window title and scan it every 100ms use python? - Stack Overflow — Mozilla Firefox\n",
      "zc.lockfile/__init__.py at master · zopefoundation/zc.lockfile — Mozilla Firefox\n",
      "zc.lockfile/src/zc/lockfile at master · zopefoundation/zc.lockfile — Mozilla Firefox\n",
      "~ : bash — Konsole\n",
      "~ : man — Konsole\n",
      "~ : perl — Konsole\n",
      "~ : python — Konsole\n",
      "~ : python3 — Konsole\n",
      "✂️ Sleep-inducing Haircut 💇 ASMR | Shampoo | Page Flipping | Scissors - YouTube — Mozilla Firefox\n"
     ]
    }
   ],
   "source": [
    "for name in sorted(names):\n",
    "    print(name)"
   ]
  },
  {
   "cell_type": "code",
   "execution_count": 108,
   "metadata": {},
   "outputs": [],
   "source": [
    "def regex(pattern):\n",
    "    compiled = re.compile(pattern)\n",
    "    \n",
    "    def regex_matcher(record):\n",
    "        return compiled.search(record.name) is not None\n",
    "    \n",
    "    return repr(pattern), regex_matcher"
   ]
  },
  {
   "cell_type": "code",
   "execution_count": 109,
   "metadata": {},
   "outputs": [],
   "source": [
    "filters = [\n",
    "    (regex(' — Mozilla Firefox$'), [\n",
    "        (regex(' - YouTube — Mozilla Firefox$'), []),\n",
    "    ]),\n",
    "    (regex(' - GVIM$'), []),\n",
    "]"
   ]
  },
  {
   "cell_type": "code",
   "execution_count": 110,
   "metadata": {},
   "outputs": [],
   "source": [
    "class Record(object):\n",
    "    def __init__(self, start, end, name):\n",
    "        self.start = datetime.fromisoformat(start)\n",
    "        self.end = datetime.fromisoformat(end)\n",
    "        self.name = name\n",
    "        \n",
    "    @property\n",
    "    def duration(self):\n",
    "        return (self.end - self.start).total_seconds()"
   ]
  },
  {
   "cell_type": "code",
   "execution_count": 142,
   "metadata": {},
   "outputs": [],
   "source": [
    "class OutputNode(object):\n",
    "    def __init__(self, name):\n",
    "        self.name = name\n",
    "        self.duration = 0\n",
    "        self.children = {}\n",
    "        \n",
    "    def child(self, name):\n",
    "        try:\n",
    "            child = self.children[name]\n",
    "        except KeyError:\n",
    "            child = self.children[name] = OutputNode(name)\n",
    "        return child\n",
    "    \n",
    "    def print(self, indent=0):\n",
    "        if indent == 0:\n",
    "            prefix = ''\n",
    "            last_prefix = '└── '\n",
    "        else:\n",
    "            prefix = '│   ' * (indent - 1)\n",
    "            prefix += '├── '\n",
    "            last_prefix = '|   ' * indent\n",
    "            last_prefix += '└── '\n",
    "        name = self.name or 'total'\n",
    "        other_duration = self.duration\n",
    "        duration = '%ds' % int(self.duration)\n",
    "        print(f'{prefix}{name} {duration}')\n",
    "        for child in self.children.values():\n",
    "            child.print(indent + 1)\n",
    "            other_duration -= child.duration\n",
    "        print(f'{last_prefix}other {other_duration}')"
   ]
  },
  {
   "cell_type": "code",
   "execution_count": 143,
   "metadata": {},
   "outputs": [],
   "source": [
    "def apply_filters(record, filters, output):\n",
    "    # Add duration to current node\n",
    "    output.duration += record.duration\n",
    "    # Apply filters until one matches\n",
    "    for (name, matcher), then_ops in filters:\n",
    "        if matcher(record):\n",
    "            apply_filters(record, then_ops, output.child(name))\n",
    "            return\n",
    "\n",
    "\n",
    "output = OutputNode(None)\n",
    "\n",
    "for row in db.execute('''\\\n",
    "    SELECT start, end, name\n",
    "    FROM windows\n",
    "    WHERE active=1;\n",
    "'''):\n",
    "    record = Record(*row)\n",
    "    apply_filters(record, filters, output)"
   ]
  },
  {
   "cell_type": "code",
   "execution_count": 144,
   "metadata": {},
   "outputs": [
    {
     "name": "stdout",
     "output_type": "stream",
     "text": [
      "total 7737s\n",
      "├── ' — Mozilla Firefox$' 5988s\n",
      "│   ├── ' - YouTube — Mozilla Firefox$' 1166s\n",
      "|   |   └── other 1166.0\n",
      "|   └── other 4822.0\n",
      "├── ' - GVIM$' 86s\n",
      "|   └── other 86.0\n",
      "└── other 1663.0\n"
     ]
    }
   ],
   "source": [
    "output.print()"
   ]
  },
  {
   "cell_type": "code",
   "execution_count": null,
   "metadata": {},
   "outputs": [],
   "source": []
  }
 ],
 "metadata": {
  "kernelspec": {
   "display_name": "Python 3",
   "language": "python",
   "name": "python3"
  },
  "language_info": {
   "codemirror_mode": {
    "name": "ipython",
    "version": 3
   },
   "file_extension": ".py",
   "mimetype": "text/x-python",
   "name": "python",
   "nbconvert_exporter": "python",
   "pygments_lexer": "ipython3",
   "version": "3.8.2"
  }
 },
 "nbformat": 4,
 "nbformat_minor": 4
}

{
 "cells": [
  {
   "cell_type": "code",
   "execution_count": 1,
   "metadata": {},
   "outputs": [],
   "source": [
    "from datetime import datetime\n",
    "from pprint import pprint\n",
    "import re\n",
    "import sqlite3"
   ]
  },
  {
   "cell_type": "code",
   "execution_count": 2,
   "metadata": {},
   "outputs": [],
   "source": [
    "db = sqlite3.connect('database.sqlite3')"
   ]
  },
  {
   "cell_type": "code",
   "execution_count": 3,
   "metadata": {},
   "outputs": [
    {
     "name": "stdout",
     "output_type": "stream",
     "text": [
      "-- Loading resources from /home/remram/.sqliterc\r\n",
      "CREATE TABLE windows(\r\n",
      "                id INTEGER PRIMARY KEY,\r\n",
      "                start DATETIME NOT NULL,\r\n",
      "                end DATETIME NOT NULL,\r\n",
      "                active BOOLEAN NOT NULL,\r\n",
      "                name TEXT NOT NULL\r\n",
      "            );\r\n",
      "CREATE TABLE runs(\r\n",
      "                id INTEGER PRIMARY KEY,\r\n",
      "                start DATETIME NOT NULL,\r\n",
      "                end DATETIME NULL,\r\n",
      "                end_reason TEXT NOT NULL DEFAULT ''\r\n",
      "            );\r\n",
      "CREATE INDEX idx_windows_start ON windows(start);\r\n",
      "CREATE INDEX idx_windows_end ON windows(end);\r\n",
      "CREATE INDEX idx_windows_active ON windows(active) WHERE active=1;\r\n",
      "CREATE INDEX idx_windows_name ON windows(name);\r\n",
      "CREATE INDEX idx_runs_start ON runs(start);\r\n",
      "CREATE INDEX idx_runs_end ON runs(end);\r\n"
     ]
    }
   ],
   "source": [
    "!sqlite3 database.sqlite3 .schema"
   ]
  },
  {
   "cell_type": "code",
   "execution_count": 4,
   "metadata": {},
   "outputs": [
    {
     "data": {
      "text/plain": [
       "[(3032,)]"
      ]
     },
     "execution_count": 4,
     "metadata": {},
     "output_type": "execute_result"
    }
   ],
   "source": [
    "list(db.execute('SELECT count(id) FROM windows;'))"
   ]
  },
  {
   "cell_type": "code",
   "execution_count": 5,
   "metadata": {},
   "outputs": [
    {
     "data": {
      "text/plain": [
       "163"
      ]
     },
     "execution_count": 5,
     "metadata": {},
     "output_type": "execute_result"
    }
   ],
   "source": [
    "names = [name for name, in db.execute('SELECT DISTINCT name FROM windows WHERE active=1;')]\n",
    "len(names)"
   ]
  },
  {
   "cell_type": "code",
   "execution_count": 6,
   "metadata": {},
   "outputs": [
    {
     "name": "stdout",
     "output_type": "stream",
     "text": [
      "() datamart-prod — Konsole\n",
      "() tanis — Konsole\n",
      "(NSFW) What Fetish did you have until you tried it? : AskReddit — Mozilla Firefox\n",
      "- : sudo -g — Konsole\n",
      "- : sudo apt — Konsole\n",
      "/home/remram/projects/pctracker - QGit\n",
      "2017 IRONMAN Lake Placid » RTRT.me — Mozilla Firefox\n",
      "ASMR Cranial Nerve Exam: Concussion Test 👩‍⚕️ (Soft Spoken Roleplay - Doctor Check Up ASMR) - YouTube — Mozilla Firefox\n",
      "Add Comment | Hacker News — Mozilla Firefox\n",
      "Amethyst - The open source, data-driven game engine — Mozilla Firefox\n",
      "Beer distribution game - Wikipedia — Mozilla Firefox\n",
      "Bevy - A data-driven game engine built in Rust — Mozilla Firefox\n",
      "Bevy - Apps — Mozilla Firefox\n",
      "Bevy - Bevy 0.4 — Mozilla Firefox\n",
      "Bevy - ECS — Mozilla Firefox\n",
      "Bevy - Faq — Mozilla Firefox\n",
      "Bevy - Getting Started — Mozilla Firefox\n",
      "Bevy - Introduction — Mozilla Firefox\n",
      "Bevy - Plugins — Mozilla Firefox\n",
      "Bevy - Resources — Mozilla Firefox\n",
      "Bevy - Setup — Mozilla Firefox\n",
      "Bevy - Troubleshooting — Mozilla Firefox\n",
      "Bevy ECS migration by cart · Pull Request #49 · bevyengine/bevy — Mozilla Firefox\n",
      "Billing Statement - remirampin@gmail.com - Gmail — Mozilla Firefox\n",
      "Blue Jeans Network | Video Collaboration in the Cloud - Google Chrome\n",
      "CGi Artist Makes a Masterpiece Everyday For 12 Years (Today We Challenge Him) - YouTube — Mozilla Firefox\n",
      "Capital One | Bank Details — Mozilla Firefox\n",
      "Capture : bash — Konsole\n",
      "Cerulean: Experimental micro-blogging app for Matrix | Hacker News — Mozilla Firefox\n",
      "Coomer Meme: No Nut November's Far-Right Roots - Rolling Stone — Mozilla Firefox\n",
      "Copy of GIS_2020-12-15_Gmail - 4et50yp2ckm8otv.pdf — Mozilla Firefox\n",
      "DEF CON 22 - Deviant Ollam & Howard Payne - Elevator Hacking - From the Pit to the Penthouse - YouTube — Mozilla Firefox\n",
      "Dashboard – Home – nyu.edu – Google Cloud Platform — Mozilla Firefox\n",
      "Datamart and profiling - remirampin@gmail.com - Gmail — Mozilla Firefox\n",
      "Defense Against Dark Arts — Mozilla Firefox\n",
      "Delete Permanently — Dolphin\n",
      "Deluge: Web UI 1.3.13 — Mozilla Firefox\n",
      "Design Patterns Revisited · Game Programming Patterns — Mozilla Firefox\n",
      "Documentation | Amethyst Game Engine — Mozilla Firefox\n",
      "Does closing an SCPClient also close the underlying SSHClient? Should it? · Issue #150 · jbardin/scp.py — Mozilla Firefox\n",
      "Donald Knuth: Algorithms, Complexity, and The Art of Computer Programming | Lex Fridman Podcast #62 - YouTube — Mozilla Firefox\n",
      "Drawing the Paddles - Amethyst Documentation — Mozilla Firefox\n",
      "Driving my car around is... weird || TRUCKLA UPDATE + CYBERTRUCK - YouTube — Mozilla Firefox\n",
      "DroidCam Video Feed — Mozilla Firefox\n",
      "DroidCam — Mozilla Firefox\n",
      "Element | PeerTube — Mozilla Firefox\n",
      "FFmpeg is 20 years old today | Hacker News — Mozilla Firefox\n",
      "Find - IMDb — Mozilla Firefox\n",
      "Flyweight · Design Patterns Revisited · Game Programming Patterns — Mozilla Firefox\n",
      "GamesDoneQuick - Twitch — Mozilla Firefox\n",
      "Get Big, Neet on Twitter: \"@ID_AA_Carmack John as a hardware man I could use your help with a project of mines\" / Twitter — Mozilla Firefox\n",
      "Getting Started - Amethyst Documentation — Mozilla Firefox\n",
      "Google Cloud Platform — Mozilla Firefox\n",
      "Google Cloud Status Dashboard — Mozilla Firefox\n",
      "Hacker News — Mozilla Firefox\n",
      "Home – datadrivendiscovery… – Google Cloud Platform — Mozilla Firefox\n",
      "Home – repro-crawl – Google Cloud Platform — Mozilla Firefox\n",
      "Home – reproserver – Google Cloud Platform — Mozilla Firefox\n",
      "How do i pass a &str without it getting out of livetime : rust — Mozilla Firefox\n",
      "I Have Resigned from the Google AMP Advisory Committee | Hacker News — Mozilla Firefox\n",
      "I TURNED MY TESLA INTO A PICKUP TRUCK - YouTube — Mozilla Firefox\n",
      "IMDb Sign-In — Mozilla Firefox\n",
      "IP Webcam - Apps on Google Play — Mozilla Firefox\n",
      "IRONMAN Lake Placid Finish Line 2017 on Livestream — Mozilla Firefox\n",
      "Inbox (34) - remirampin@gmail.com - Gmail — Mozilla Firefox\n",
      "Inbox (35) - remirampin@gmail.com - Gmail — Mozilla Firefox\n",
      "Inbox (36) - remirampin@gmail.com - Gmail — Mozilla Firefox\n",
      "Inbox (37) - remirampin@gmail.com - Gmail — Mozilla Firefox\n",
      "Inbox (38) - remirampin@gmail.com - Gmail — Mozilla Firefox\n",
      "Inbox (40) - remirampin@gmail.com - Gmail — Mozilla Firefox\n",
      "Inbox (41) - remirampin@gmail.com - Gmail — Mozilla Firefox\n",
      "Inbox (50) - remirampin@gmail.com - Gmail — Mozilla Firefox\n",
      "Introduction - Amethyst Documentation — Mozilla Firefox\n",
      "John Carmack on Twitter: \"When I started at Oculus, I didn't have any experience with the practicalities of video at scale, and I was a little surprised when I found that all the giant companies used the open source ffmpeg project in their backends. I expected some unique combination of commercial and \\\" / Twitter — Mozilla Firefox\n",
      "Kylo kills Supreme Leader Snoke - The Last Jedi Throne Room Scene - YouTube — Mozilla Firefox\n",
      "Library\n",
      "Miziziziz - Twitch — Mozilla Firefox\n",
      "Monitor is DOWN: reprocrawl - remirampin@gmail.com - Gmail — Mozilla Firefox\n",
      "Mozilla Firefox\n",
      "Mozilla Firefox (Private Browsing)\n",
      "New Issue · VIDA-NYU / auctus / Auctus · GitLab — Mozilla Firefox\n",
      "NoFap® Porn Addiction Recovery — Mozilla Firefox\n",
      "Piggo: \"Hello! https://datatable.directory/ is now in pub…\" - dev.glitch.social — Mozilla Firefox\n",
      "Plasma\n",
      "Post Mortem of Google Outage on 14 December 2020 | Hacker News — Mozilla Firefox\n",
      "Pragma statements supported by SQLite — Mozilla Firefox\n",
      "Rebooting a 15 year-old game written in D – Part 1 Compiling | Hacker News — Mozilla Firefox\n",
      "ReproCrawl — Mozilla Firefox\n",
      "Researchers propose faster, more efficient alternatives to backpropagation | Hacker News — Mozilla Firefox\n",
      "Roguelite Action Platformer - Rogue Glitch (Northernlion Tries) - YouTube — Mozilla Firefox\n",
      "Ruining Christmas Carols - YouTube — Mozilla Firefox\n",
      "Rust, gamedev, ECS, and bevy - Part 2 - Hugo Peixoto — Mozilla Firefox\n",
      "SORSE - From experimental software to research infrastructure maturity - YouTube — Mozilla Firefox\n",
      "STAR WARS THE OLD REPUBLIC Full Movie Cinematic 4K ULTRA HD All Cinematics Trailers - YouTube — Mozilla Firefox\n",
      "STAR WARS: THE LAST JEDI in 4 minutes (Movie Recap) - YouTube — Mozilla Firefox\n",
      "Separating GUI and core functions? : rust — Mozilla Firefox\n",
      "Setting up the project - Amethyst Documentation — Mozilla Firefox\n",
      "Ship of the Line: Forever After Earth Chapter 18: Affinity, a Buffy: The Vampire Slayer + Stargate: SG-1 Crossover fanfic | FanFiction — Mozilla Firefox\n",
      "Ship of the Line: Forever After Earth Chapter 19: Passion, a Buffy: The Vampire Slayer + Stargate: SG-1 Crossover fanfic | FanFiction — Mozilla Firefox\n",
      "Signal\n",
      "Signal (1)\n",
      "Slack | Composer | datadrivendiscovery — Mozilla Firefox\n",
      "Slack | community-outreach | datadrivendiscovery — Mozilla Firefox\n",
      "SourceFilter.tsx + (~/projects/d3m/auctus/frontend/src/components/SourceFilter) - GVIM\n",
      "Spam (8) - remirampin@gmail.com - Gmail — Mozilla Firefox\n",
      "Star Trek Tng Blooper Reel Season 5 Sub ITA - YouTube — Mozilla Firefox\n",
      "Star Wars Episode IX The Rise of Skywalker 2019 1080p BluRay 10b (download torrent) - TPB — Mozilla Firefox\n",
      "Star Wars Episode IX The Rise of Skywalker 2019 1080p BluRay 10bit HEVC Hindi English x265 AC3 MSubs - LOKiHD - Telly — Dolphin\n",
      "Star Wars Episode IX The Rise of Skywalker 2019 720p BluRay 10bit HEVC Hindi English x265 AC3 MSubs - LOKiHD - Telly - VLC media player\n",
      "Star Wars The Rise of Skywalker 2019 HDTS XViD-ETRG — Dolphin\n",
      "Star Wars The Rise of Skywalker 2019 HDTS XViD-ETRG.avi - VLC media player\n",
      "Star Wars: Episode IX - The Rise of Skywalker (2019) - IMDb — Mozilla Firefox\n",
      "Star Wars: The Last Jedi/Luke's Final Stand - YouTube — Mozilla Firefox\n",
      "Statement for Joschi & Narges - Google Docs — Mozilla Firefox\n",
      "Text changes when imported (#205) · Issues · Remi Rampin / taguette · GitLab — Mozilla Firefox\n",
      "The Internet Is for Porn | Hacker News — Mozilla Firefox\n",
      "The Internet is for Porn - Margins by Ranjan Roy and Can Duruk — Mozilla Firefox\n",
      "The Pirate Bay - The galaxy's most resilient bittorrent site — Mozilla Firefox\n",
      "Video > Video - TPB — Mozilla Firefox\n",
      "Videos : rsync — Konsole\n",
      "Videos — Dolphin\n",
      "What something that you’ve done while horny and you regret it? : AskReddit — Mozilla Firefox\n",
      "When the DOOM music kicks in - YouTube — Mozilla Firefox\n",
      "Win10 [Running] - Oracle VM VirtualBox\n",
      "ZEN PENCILS » 18. LAO TZU: Watering your dreams — Mozilla Firefox\n",
      "ZEN PENCILS » 19. DR SEUSS: You know you’re in love — Mozilla Firefox\n",
      "ZEN PENCILS » 20. ROBERT FROST: The brain is a wonderful organ — Mozilla Firefox\n",
      "ZEN PENCILS » 21. RUDYARD KIPLING: If — Mozilla Firefox\n",
      "[105948]@axon\n",
      "[No Name] + - GVIM\n",
      "aella - Bing images — Mozilla Firefox (Private Browsing)\n",
      "aella - Bing video — Mozilla Firefox (Private Browsing)\n",
      "aella - Bing — Mozilla Firefox (Private Browsing)\n",
      "aella at DuckDuckGo — Mozilla Firefox (Private Browsing)\n",
      "analysis - Jupyter Notebook — Mozilla Firefox\n",
      "auctus\n",
      "auctus : python3 — Konsole\n",
      "auctus : vi — Konsole\n",
      "auctus – __init__.py [datamart]\n",
      "bannedit's musings – Virtual Machine Detection In The Browser — Mozilla Firefox\n",
      "bevy/config_fast_builds at master · bevyengine/bevy — Mozilla Firefox\n",
      "buffy faith at DuckDuckGo — Mozilla Firefox\n",
      "ipython : notebook — Konsole\n",
      "newest submissions : rust — Mozilla Firefox\n",
      "pctracker : bash — Konsole\n",
      "pctracker : git — Konsole\n",
      "pctracker : python — Konsole\n",
      "pctracker : python3 — Konsole\n",
      "pctracker : sqlite3 — Konsole\n",
      "pctracker – record.py\n",
      "speps.fr - Rémi Gillig - Torus Trooper - Rebooting a 15 year-old game written in D - Part 1 Compiling — Mozilla Firefox\n",
      "star ways 8 end - YouTube — Mozilla Firefox\n",
      "use-create-upload-video.md · master · Framasoft / PeerTube / documentation · GitLab — Mozilla Firefox\n",
      "vlc\n",
      "vsnz - Twitch — Mozilla Firefox\n",
      "webgl examples on previous — Mozilla Firefox\n",
      "win32gui - How to get a window title and scan it every 100ms use python? - Stack Overflow — Mozilla Firefox\n",
      "zc.lockfile/src/zc/lockfile at master · zopefoundation/zc.lockfile — Mozilla Firefox\n",
      "~ : bash — Konsole\n",
      "~ : man — Konsole\n",
      "~ : perl — Konsole\n",
      "~ : python3 — Konsole\n",
      "~ : rsync — Konsole\n"
     ]
    }
   ],
   "source": [
    "for name in sorted(names):\n",
    "    print(name)"
   ]
  },
  {
   "cell_type": "code",
   "execution_count": 22,
   "metadata": {},
   "outputs": [],
   "source": [
    "def prefix(string, name=None):\n",
    "    def prefix_matcher(record):\n",
    "        if record.name.startswith(string):\n",
    "            return record.name[len(string):]\n",
    "        else:\n",
    "            return None\n",
    "\n",
    "    if not name:\n",
    "        name = repr(pattern)\n",
    "\n",
    "    return name, prefix_matcher\n",
    "\n",
    "def suffix(string, name=None):\n",
    "    def suffix_matcher(record):\n",
    "        if record.name.endswith(string):\n",
    "            return record.name[:-len(string)]\n",
    "        else:\n",
    "            return None\n",
    "\n",
    "    if not name:\n",
    "        name = repr(pattern)\n",
    "\n",
    "    return name, suffix_matcher"
   ]
  },
  {
   "cell_type": "code",
   "execution_count": 23,
   "metadata": {},
   "outputs": [],
   "source": [
    "filters = [\n",
    "    (suffix(' — Mozilla Firefox', 'Firefox'), [\n",
    "        (suffix(' - YouTube', 'YouTube'), []),\n",
    "        (suffix(' Hacker News', 'HackerNews'), []),\n",
    "        (suffix(' GitLab', 'GitLab'), []),\n",
    "        (suffix(' - Gmail', 'Gmail'), []),\n",
    "        (prefix('Slack', 'Slack'), []),\n",
    "        (suffix(' - Jupyter Notebook', 'Jupyter'), []),\n",
    "    ]),\n",
    "    (suffix(' - Google Chrome', 'Google Chrome'), []),\n",
    "    (prefix('Signal', 'Signal'), []),\n",
    "    (suffix(' - GVIM', 'GVIM'), []),\n",
    "    (suffix(' — Konsole', 'Konsole'), []),\n",
    "]"
   ]
  },
  {
   "cell_type": "code",
   "execution_count": 24,
   "metadata": {},
   "outputs": [],
   "source": [
    "class Record(object):\n",
    "    def __init__(self, start, end, name):\n",
    "        self.start = datetime.fromisoformat(start)\n",
    "        self.end = datetime.fromisoformat(end)\n",
    "        self.name = name\n",
    "        \n",
    "    @property\n",
    "    def duration(self):\n",
    "        return (self.end - self.start).total_seconds()"
   ]
  },
  {
   "cell_type": "code",
   "execution_count": 25,
   "metadata": {},
   "outputs": [],
   "source": [
    "def format_duration(seconds):\n",
    "    seconds = int(seconds)\n",
    "    out = '%ds' % (seconds % 60)\n",
    "    if seconds >= 60:\n",
    "        out = '%dm%s' % ((seconds // 60) % 60, out)\n",
    "        if seconds >= 3600:\n",
    "            out = '%dh%s' % (seconds // 3600, out)\n",
    "    return out"
   ]
  },
  {
   "cell_type": "code",
   "execution_count": 26,
   "metadata": {},
   "outputs": [],
   "source": [
    "class OutputNode(object):\n",
    "    def __init__(self, name):\n",
    "        self.name = name\n",
    "        self.duration = 0\n",
    "        self.children = {}\n",
    "        \n",
    "    def child(self, name):\n",
    "        try:\n",
    "            child = self.children[name]\n",
    "        except KeyError:\n",
    "            child = self.children[name] = OutputNode(name)\n",
    "        return child\n",
    "    \n",
    "    def print(self, indent=0):\n",
    "        if indent == 0:\n",
    "            prefix = ''\n",
    "            last_prefix = '└── '\n",
    "        else:\n",
    "            prefix = '│   ' * (indent - 1)\n",
    "            prefix += '├── '\n",
    "            last_prefix = '|   ' * indent\n",
    "            last_prefix += '└── '\n",
    "        name = self.name or 'total'\n",
    "        other_duration = self.duration\n",
    "        duration = format_duration(self.duration)\n",
    "        print(f'{prefix}{name} {duration}')\n",
    "        children = sorted(self.children.values(), key=lambda c: -c.duration)\n",
    "        for child in children:\n",
    "            child.print(indent + 1)\n",
    "            other_duration -= child.duration\n",
    "        if self.children:\n",
    "            print(f'{last_prefix}other {other_duration}')"
   ]
  },
  {
   "cell_type": "code",
   "execution_count": 27,
   "metadata": {},
   "outputs": [],
   "source": [
    "def apply_filters(record, filters, output):\n",
    "    # Add duration to current node\n",
    "    output.duration += record.duration\n",
    "    # Apply filters until one matches\n",
    "    for (name, matcher), then_ops in filters:\n",
    "        m = matcher(record)\n",
    "        if m is not None:\n",
    "            record.name = m\n",
    "            apply_filters(record, then_ops, output.child(name))\n",
    "            return\n",
    "\n",
    "\n",
    "output = OutputNode(None)\n",
    "\n",
    "for row in db.execute('''\\\n",
    "    SELECT start, end, name\n",
    "    FROM windows\n",
    "    WHERE active=1;\n",
    "'''):\n",
    "    record = Record(*row)\n",
    "    apply_filters(record, filters, output)"
   ]
  },
  {
   "cell_type": "code",
   "execution_count": 28,
   "metadata": {},
   "outputs": [
    {
     "name": "stdout",
     "output_type": "stream",
     "text": [
      "total 4h9m49s\n",
      "├── Firefox 2h46m58s\n",
      "│   ├── YouTube 25m37s\n",
      "│   ├── HackerNews 15m7s\n",
      "│   ├── Jupyter 12m47s\n",
      "│   ├── Gmail 10m8s\n",
      "│   ├── GitLab 5m17s\n",
      "│   ├── Slack 5m7s\n",
      "|   └── other 5575.0\n",
      "├── Konsole 15m17s\n",
      "├── Signal 3m43s\n",
      "├── GVIM 1m26s\n",
      "├── Google Chrome 26s\n",
      "└── other 3719.0\n"
     ]
    }
   ],
   "source": [
    "output.print()"
   ]
  },
  {
   "cell_type": "code",
   "execution_count": null,
   "metadata": {},
   "outputs": [],
   "source": []
  }
 ],
 "metadata": {
  "kernelspec": {
   "display_name": "Python 3",
   "language": "python",
   "name": "python3"
  },
  "language_info": {
   "codemirror_mode": {
    "name": "ipython",
    "version": 3
   },
   "file_extension": ".py",
   "mimetype": "text/x-python",
   "name": "python",
   "nbconvert_exporter": "python",
   "pygments_lexer": "ipython3",
   "version": "3.8.2"
  }
 },
 "nbformat": 4,
 "nbformat_minor": 4
}

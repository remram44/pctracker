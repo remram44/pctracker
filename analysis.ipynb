{
 "cells": [
  {
   "cell_type": "code",
   "execution_count": 69,
   "metadata": {},
   "outputs": [],
   "source": [
    "from datetime import datetime\n",
    "from pprint import pprint\n",
    "import re\n",
    "import sqlite3"
   ]
  },
  {
   "cell_type": "code",
   "execution_count": 2,
   "metadata": {},
   "outputs": [],
   "source": [
    "db = sqlite3.connect('database.sqlite3')"
   ]
  },
  {
   "cell_type": "code",
   "execution_count": 24,
   "metadata": {},
   "outputs": [
    {
     "name": "stdout",
     "output_type": "stream",
     "text": [
      "-- Loading resources from /home/remram/.sqliterc\r\n",
      "CREATE TABLE windows(\r\n",
      "                id INTEGER PRIMARY KEY,\r\n",
      "                start DATETIME NOT NULL,\r\n",
      "                end DATETIME NOT NULL,\r\n",
      "                active BOOLEAN NOT NULL,\r\n",
      "                name TEXT NOT NULL\r\n",
      "            );\r\n",
      "CREATE TABLE runs(\r\n",
      "                id INTEGER PRIMARY KEY,\r\n",
      "                start DATETIME NOT NULL,\r\n",
      "                end DATETIME NULL,\r\n",
      "                end_reason TEXT NOT NULL DEFAULT ''\r\n",
      "            );\r\n",
      "CREATE INDEX idx_windows_start ON windows(start);\r\n",
      "CREATE INDEX idx_windows_end ON windows(end);\r\n",
      "CREATE INDEX idx_windows_active ON windows(active) WHERE active=1;\r\n",
      "CREATE INDEX idx_windows_name ON windows(name);\r\n",
      "CREATE INDEX idx_runs_start ON runs(start);\r\n",
      "CREATE INDEX idx_runs_end ON runs(end);\r\n"
     ]
    }
   ],
   "source": [
    "!sqlite3 database.sqlite3 .schema"
   ]
  },
  {
   "cell_type": "code",
   "execution_count": 3,
   "metadata": {},
   "outputs": [
    {
     "data": {
      "text/plain": [
       "[(2100,)]"
      ]
     },
     "execution_count": 3,
     "metadata": {},
     "output_type": "execute_result"
    }
   ],
   "source": [
    "list(db.execute('SELECT count(id) FROM windows;'))"
   ]
  },
  {
   "cell_type": "code",
   "execution_count": 170,
   "metadata": {},
   "outputs": [
    {
     "data": {
      "text/plain": [
       "80"
      ]
     },
     "execution_count": 170,
     "metadata": {},
     "output_type": "execute_result"
    }
   ],
   "source": [
    "names = [name for name, in db.execute('SELECT DISTINCT name FROM windows WHERE active=1;')]\n",
    "len(names)"
   ]
  },
  {
   "cell_type": "code",
   "execution_count": 171,
   "metadata": {},
   "outputs": [
    {
     "name": "stdout",
     "output_type": "stream",
     "text": [
      "() datamart-prod — Konsole\n",
      "(NSFW) What Fetish did you have until you tried it? : AskReddit — Mozilla Firefox\n",
      "- : sudo -g — Konsole\n",
      "/home/remram/projects/pctracker - QGit\n",
      "2017 IRONMAN Lake Placid » RTRT.me — Mozilla Firefox\n",
      "ASMR Cranial Nerve Exam: Concussion Test 👩‍⚕️ (Soft Spoken Roleplay - Doctor Check Up ASMR) - YouTube — Mozilla Firefox\n",
      "Add Comment | Hacker News — Mozilla Firefox\n",
      "Beer distribution game - Wikipedia — Mozilla Firefox\n",
      "Bevy ECS migration by cart · Pull Request #49 · bevyengine/bevy — Mozilla Firefox\n",
      "Billing Statement - remirampin@gmail.com - Gmail — Mozilla Firefox\n",
      "Blue Jeans Network | Video Collaboration in the Cloud - Google Chrome\n",
      "CGi Artist Makes a Masterpiece Everyday For 12 Years (Today We Challenge Him) - YouTube — Mozilla Firefox\n",
      "Capital One | Bank Details — Mozilla Firefox\n",
      "Capture : bash — Konsole\n",
      "Cerulean: Experimental micro-blogging app for Matrix | Hacker News — Mozilla Firefox\n",
      "Copy of GIS_2020-12-15_Gmail - 4et50yp2ckm8otv.pdf — Mozilla Firefox\n",
      "DEF CON 22 - Deviant Ollam & Howard Payne - Elevator Hacking - From the Pit to the Penthouse - YouTube — Mozilla Firefox\n",
      "Datamart and profiling - remirampin@gmail.com - Gmail — Mozilla Firefox\n",
      "Defense Against Dark Arts — Mozilla Firefox\n",
      "Delete Permanently — Dolphin\n",
      "Does closing an SCPClient also close the underlying SSHClient? Should it? · Issue #150 · jbardin/scp.py — Mozilla Firefox\n",
      "Donald Knuth: Algorithms, Complexity, and The Art of Computer Programming | Lex Fridman Podcast #62 - YouTube — Mozilla Firefox\n",
      "Driving my car around is... weird || TRUCKLA UPDATE + CYBERTRUCK - YouTube — Mozilla Firefox\n",
      "DroidCam Video Feed — Mozilla Firefox\n",
      "DroidCam — Mozilla Firefox\n",
      "GamesDoneQuick - Twitch — Mozilla Firefox\n",
      "Google Cloud Status Dashboard — Mozilla Firefox\n",
      "How do i pass a &str without it getting out of livetime : rust — Mozilla Firefox\n",
      "I Have Resigned from the Google AMP Advisory Committee | Hacker News — Mozilla Firefox\n",
      "I TURNED MY TESLA INTO A PICKUP TRUCK - YouTube — Mozilla Firefox\n",
      "IP Webcam - Apps on Google Play — Mozilla Firefox\n",
      "IRONMAN Lake Placid Finish Line 2017 on Livestream — Mozilla Firefox\n",
      "Inbox (34) - remirampin@gmail.com - Gmail — Mozilla Firefox\n",
      "Inbox (35) - remirampin@gmail.com - Gmail — Mozilla Firefox\n",
      "Inbox (36) - remirampin@gmail.com - Gmail — Mozilla Firefox\n",
      "Inbox (40) - remirampin@gmail.com - Gmail — Mozilla Firefox\n",
      "Inbox (41) - remirampin@gmail.com - Gmail — Mozilla Firefox\n",
      "Inbox (50) - remirampin@gmail.com - Gmail — Mozilla Firefox\n",
      "Miziziziz - Twitch — Mozilla Firefox\n",
      "Mozilla Firefox\n",
      "New Issue · VIDA-NYU / auctus / Auctus · GitLab — Mozilla Firefox\n",
      "Plasma\n",
      "Post Mortem of Google Outage on 14 December 2020 | Hacker News — Mozilla Firefox\n",
      "Pragma statements supported by SQLite — Mozilla Firefox\n",
      "Roguelite Action Platformer - Rogue Glitch (Northernlion Tries) - YouTube — Mozilla Firefox\n",
      "Ruining Christmas Carols - YouTube — Mozilla Firefox\n",
      "Rust, gamedev, ECS, and bevy - Part 2 - Hugo Peixoto — Mozilla Firefox\n",
      "SORSE - From experimental software to research infrastructure maturity - YouTube — Mozilla Firefox\n",
      "Separating GUI and core functions? : rust — Mozilla Firefox\n",
      "Signal\n",
      "Signal (1)\n",
      "Slack | Composer | datadrivendiscovery — Mozilla Firefox\n",
      "Slack | community-outreach | datadrivendiscovery — Mozilla Firefox\n",
      "SourceFilter.tsx + (~/projects/d3m/auctus/frontend/src/components/SourceFilter) - GVIM\n",
      "Star Trek Tng Blooper Reel Season 5 Sub ITA - YouTube — Mozilla Firefox\n",
      "Statement for Joschi & Narges - Google Docs — Mozilla Firefox\n",
      "Text changes when imported (#205) · Issues · Remi Rampin / taguette · GitLab — Mozilla Firefox\n",
      "What something that you’ve done while horny and you regret it? : AskReddit — Mozilla Firefox\n",
      "When the DOOM music kicks in - YouTube — Mozilla Firefox\n",
      "Win10 [Running] - Oracle VM VirtualBox\n",
      "[No Name] + - GVIM\n",
      "analysis - Jupyter Notebook — Mozilla Firefox\n",
      "auctus\n",
      "auctus : python3 — Konsole\n",
      "auctus – __init__.py [datamart]\n",
      "bannedit's musings – Virtual Machine Detection In The Browser — Mozilla Firefox\n",
      "newest submissions : rust — Mozilla Firefox\n",
      "pctracker : bash — Konsole\n",
      "pctracker : git — Konsole\n",
      "pctracker : python — Konsole\n",
      "pctracker : python3 — Konsole\n",
      "pctracker : sqlite3 — Konsole\n",
      "pctracker – record.py\n",
      "use-create-upload-video.md · master · Framasoft / PeerTube / documentation · GitLab — Mozilla Firefox\n",
      "vsnz - Twitch — Mozilla Firefox\n",
      "win32gui - How to get a window title and scan it every 100ms use python? - Stack Overflow — Mozilla Firefox\n",
      "zc.lockfile/src/zc/lockfile at master · zopefoundation/zc.lockfile — Mozilla Firefox\n",
      "~ : bash — Konsole\n",
      "~ : man — Konsole\n",
      "~ : python3 — Konsole\n"
     ]
    }
   ],
   "source": [
    "for name in sorted(names):\n",
    "    print(name)"
   ]
  },
  {
   "cell_type": "code",
   "execution_count": 108,
   "metadata": {},
   "outputs": [],
   "source": [
    "def regex(pattern):\n",
    "    compiled = re.compile(pattern)\n",
    "    \n",
    "    def regex_matcher(record):\n",
    "        return compiled.search(record.name) is not None\n",
    "    \n",
    "    return repr(pattern), regex_matcher"
   ]
  },
  {
   "cell_type": "code",
   "execution_count": 191,
   "metadata": {},
   "outputs": [],
   "source": [
    "filters = [\n",
    "    (regex(' — Mozilla Firefox$'), [\n",
    "        (regex(' - YouTube — Mozilla Firefox$'), []),\n",
    "        (regex(' Hacker News — Mozilla Firefox$'), []),\n",
    "        (regex(' GitLab — Mozilla Firefox$'), []),\n",
    "        (regex(' - Gmail — Mozilla Firefox$'), []),\n",
    "        (regex('Slack .* — Mozilla Firefox$'), []),\n",
    "        (regex(' - Jupyter Notebook — Mozilla Firefox$'), []),\n",
    "    ]),\n",
    "    (regex(' - Google Chrome$'), []),\n",
    "    (regex('^Signal'), []),\n",
    "    (regex(' - GVIM$'), []),\n",
    "    (regex(' — Konsole$'), []),\n",
    "    (regex(' - QGit$'), []),\n",
    "]"
   ]
  },
  {
   "cell_type": "code",
   "execution_count": 192,
   "metadata": {},
   "outputs": [],
   "source": [
    "class Record(object):\n",
    "    def __init__(self, start, end, name):\n",
    "        self.start = datetime.fromisoformat(start)\n",
    "        self.end = datetime.fromisoformat(end)\n",
    "        self.name = name\n",
    "        \n",
    "    @property\n",
    "    def duration(self):\n",
    "        return (self.end - self.start).total_seconds()"
   ]
  },
  {
   "cell_type": "code",
   "execution_count": 193,
   "metadata": {},
   "outputs": [],
   "source": [
    "class OutputNode(object):\n",
    "    def __init__(self, name):\n",
    "        self.name = name\n",
    "        self.duration = 0\n",
    "        self.children = {}\n",
    "        \n",
    "    def child(self, name):\n",
    "        try:\n",
    "            child = self.children[name]\n",
    "        except KeyError:\n",
    "            child = self.children[name] = OutputNode(name)\n",
    "        return child\n",
    "    \n",
    "    def print(self, indent=0):\n",
    "        if indent == 0:\n",
    "            prefix = ''\n",
    "            last_prefix = '└── '\n",
    "        else:\n",
    "            prefix = '│   ' * (indent - 1)\n",
    "            prefix += '├── '\n",
    "            last_prefix = '|   ' * indent\n",
    "            last_prefix += '└── '\n",
    "        name = self.name or 'total'\n",
    "        other_duration = self.duration\n",
    "        duration = '%ds' % int(self.duration)\n",
    "        print(f'{prefix}{name} {duration}')\n",
    "        children = sorted(self.children.values(), key=lambda c: -c.duration)\n",
    "        for child in children:\n",
    "            child.print(indent + 1)\n",
    "            other_duration -= child.duration\n",
    "        if self.children:\n",
    "            print(f'{last_prefix}other {other_duration}')"
   ]
  },
  {
   "cell_type": "code",
   "execution_count": 194,
   "metadata": {},
   "outputs": [],
   "source": [
    "def apply_filters(record, filters, output):\n",
    "    # Add duration to current node\n",
    "    output.duration += record.duration\n",
    "    # Apply filters until one matches\n",
    "    for (name, matcher), then_ops in filters:\n",
    "        if matcher(record):\n",
    "            apply_filters(record, then_ops, output.child(name))\n",
    "            return\n",
    "\n",
    "\n",
    "output = OutputNode(None)\n",
    "\n",
    "for row in db.execute('''\\\n",
    "    SELECT start, end, name\n",
    "    FROM windows\n",
    "    WHERE active=1;\n",
    "'''):\n",
    "    record = Record(*row)\n",
    "    apply_filters(record, filters, output)"
   ]
  },
  {
   "cell_type": "code",
   "execution_count": 195,
   "metadata": {},
   "outputs": [
    {
     "name": "stdout",
     "output_type": "stream",
     "text": [
      "total 7737s\n",
      "├── ' — Mozilla Firefox$' 5988s\n",
      "│   ├── ' - YouTube — Mozilla Firefox$' 1166s\n",
      "│   ├── ' - Gmail — Mozilla Firefox$' 588s\n",
      "│   ├── ' - Jupyter Notebook — Mozilla Firefox$' 408s\n",
      "│   ├── ' GitLab — Mozilla Firefox$' 317s\n",
      "│   ├── 'Slack .* — Mozilla Firefox$' 307s\n",
      "│   ├── ' Hacker News — Mozilla Firefox$' 163s\n",
      "|   └── other 3039.0\n",
      "├── ' — Konsole$' 664s\n",
      "├── '^Signal' 223s\n",
      "├── ' - GVIM$' 86s\n",
      "├── ' - Google Chrome$' 26s\n",
      "├── ' - QGit$' 0s\n",
      "└── other 750.0\n"
     ]
    }
   ],
   "source": [
    "output.print()"
   ]
  },
  {
   "cell_type": "code",
   "execution_count": null,
   "metadata": {},
   "outputs": [],
   "source": []
  }
 ],
 "metadata": {
  "kernelspec": {
   "display_name": "Python 3",
   "language": "python",
   "name": "python3"
  },
  "language_info": {
   "codemirror_mode": {
    "name": "ipython",
    "version": 3
   },
   "file_extension": ".py",
   "mimetype": "text/x-python",
   "name": "python",
   "nbconvert_exporter": "python",
   "pygments_lexer": "ipython3",
   "version": "3.8.2"
  }
 },
 "nbformat": 4,
 "nbformat_minor": 4
}
